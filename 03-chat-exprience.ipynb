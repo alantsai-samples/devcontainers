{
 "cells": [
  {
   "cell_type": "code",
   "execution_count": 1,
   "metadata": {
    "dotnet_interactive": {
     "language": "csharp"
    },
    "polyglot_notebook": {
     "kernelName": "csharp"
    },
    "vscode": {
     "languageId": "polyglot-notebook"
    }
   },
   "outputs": [
    {
     "data": {
      "text/html": [
       "<div><div></div><div></div><div><strong>Installed Packages</strong><ul><li><span>Microsoft.SemanticKernel, 1.0.1</span></li></ul></div></div>"
      ]
     },
     "metadata": {},
     "output_type": "display_data"
    }
   ],
   "source": [
    "#r \"nuget: Microsoft.SemanticKernel, 1.0.1\"\n",
    "\n",
    "#!import config/Settings.cs\n",
    "\n",
    "using Microsoft.SemanticKernel;\n",
    "using Microsoft.SemanticKernel.Connectors.OpenAI;\n",
    "using Microsoft.SemanticKernel.TemplateEngine;\n",
    "using Kernel = Microsoft.SemanticKernel.Kernel;\n",
    "using Microsoft.SemanticKernel.ChatCompletion;\n",
    "using InteractiveKernel = Microsoft.DotNet.Interactive.Kernel;\n",
    "\n",
    "var builder = Kernel.CreateBuilder();\n",
    "\n",
    "// Configure AI service credentials used by the kernel\n",
    "var (useAzureOpenAI, model, azureEndpoint, apiKey, orgId) = Settings.LoadFromFile();\n",
    "\n",
    "if (useAzureOpenAI)\n",
    "    builder.AddAzureOpenAIChatCompletion(model, azureEndpoint, apiKey);\n",
    "else\n",
    "    builder.AddOpenAIChatCompletion(model, apiKey, orgId);\n",
    "\n",
    "var kernel = builder.Build();"
   ]
  },
  {
   "cell_type": "markdown",
   "metadata": {},
   "source": [
    "## 打造 Chat 的感覺"
   ]
  },
  {
   "cell_type": "code",
   "execution_count": 2,
   "metadata": {
    "dotnet_interactive": {
     "language": "csharp"
    },
    "polyglot_notebook": {
     "kernelName": "csharp"
    },
    "vscode": {
     "languageId": "polyglot-notebook"
    }
   },
   "outputs": [],
   "source": [
    "const string skPrompt = @\"\n",
    "ChatBot can have a conversation with you about any topic.\n",
    "It can give explicit instructions or say 'I don't know' if it does not have an answer.\n",
    "\n",
    "{{$history}}\n",
    "User: {{$userInput}}\n",
    "Assistant:\";\n",
    "\n",
    "var executionSettings = new OpenAIPromptExecutionSettings \n",
    "{\n",
    "    MaxTokens = 2000,\n",
    "    Temperature = 0.7,\n",
    "    TopP = 0.5\n",
    "};"
   ]
  },
  {
   "cell_type": "code",
   "execution_count": 3,
   "metadata": {
    "dotnet_interactive": {
     "language": "csharp"
    },
    "polyglot_notebook": {
     "kernelName": "csharp"
    },
    "vscode": {
     "languageId": "polyglot-notebook"
    }
   },
   "outputs": [],
   "source": [
    "var chatFunction = kernel.CreateFunctionFromPrompt(skPrompt, executionSettings);\n",
    "\n",
    "ChatHistory history = [];"
   ]
  },
  {
   "cell_type": "code",
   "execution_count": 4,
   "metadata": {
    "dotnet_interactive": {
     "language": "csharp"
    },
    "polyglot_notebook": {
     "kernelName": "csharp"
    },
    "vscode": {
     "languageId": "polyglot-notebook"
    }
   },
   "outputs": [],
   "source": [
    "var request = \"Hi, I'm looking for book suggestions\";\n",
    "var bot_answer = await chatFunction.InvokeAsync(kernel, new (){\n",
    "                    { \"userInput\", request },\n",
    "                    { \"history\", string.Join(\"\\n\", history.Select(x => x.Role + \": \" + x.Content)) }\n",
    "                    });\n",
    "                    \n",
    "history.AddUserMessage(request);\n",
    "history.AddAssistantMessage(bot_answer.ToString());"
   ]
  },
  {
   "cell_type": "code",
   "execution_count": 5,
   "metadata": {
    "dotnet_interactive": {
     "language": "csharp"
    },
    "polyglot_notebook": {
     "kernelName": "csharp"
    },
    "vscode": {
     "languageId": "polyglot-notebook"
    }
   },
   "outputs": [
    {
     "name": "stdout",
     "output_type": "stream",
     "text": [
      "user: Hi, I'm looking for book suggestions\n",
      "assistant: Sure, what kind of books are you interested in? Fiction, non-fiction, mystery, romance, science fiction, fantasy, self-help, or something else?\n"
     ]
    }
   ],
   "source": [
    "Console.WriteLine(string.Join(\"\\n\", history.Select(x => x.Role + \": \" + x.Content)));"
   ]
  },
  {
   "cell_type": "code",
   "execution_count": 8,
   "metadata": {
    "dotnet_interactive": {
     "language": "csharp"
    },
    "polyglot_notebook": {
     "kernelName": "csharp"
    },
    "vscode": {
     "languageId": "polyglot-notebook"
    }
   },
   "outputs": [],
   "source": [
    "Func<string, Task> Chat = async (string input) => {\n",
    "\n",
    "    // Process the user message and get an answer\n",
    "    var answer = await chatFunction.InvokeAsync(kernel, new (){\n",
    "                    { \"userInput\", input },\n",
    "                    { \"history\", string.Join(\"\\n\", history.Select(x => x.Role + \": \" + x.Content)) }\n",
    "                    });\n",
    "\n",
    "history.AddUserMessage(input);\n",
    "history.AddAssistantMessage(answer.ToString());\n",
    "    \n",
    "    // Show the response\n",
    "    Console.WriteLine($\"\\nUser: {input}\\nAssistant: {answer}\\n\" );\n",
    "};"
   ]
  },
  {
   "cell_type": "code",
   "execution_count": 9,
   "metadata": {
    "dotnet_interactive": {
     "language": "csharp"
    },
    "polyglot_notebook": {
     "kernelName": "csharp"
    },
    "vscode": {
     "languageId": "polyglot-notebook"
    }
   },
   "outputs": [
    {
     "name": "stdout",
     "output_type": "stream",
     "text": [
      "\n",
      "User: I would like a non-fiction book suggestion about Greece history. Please only list one book.\n",
      "Assistant: I recommend \"The Greeks\" by H.D.F. Kitto. It provides a comprehensive overview of ancient Greek history, culture, and society.\n",
      "\n"
     ]
    }
   ],
   "source": [
    "await Chat(\"I would like a non-fiction book suggestion about Greece history. Please only list one book.\");"
   ]
  },
  {
   "cell_type": "code",
   "execution_count": 10,
   "metadata": {
    "dotnet_interactive": {
     "language": "csharp"
    },
    "polyglot_notebook": {
     "kernelName": "csharp"
    },
    "vscode": {
     "languageId": "polyglot-notebook"
    }
   },
   "outputs": [
    {
     "name": "stdout",
     "output_type": "stream",
     "text": [
      "\n",
      "User: that sounds interesting, what are some of the topics I will learn about?\n",
      "Assistant: You will learn about the rise of ancient Greek civilization, the development of Greek city-states, the Persian Wars, the Golden Age of Athens, Greek philosophy, art, and literature, as well as the conquests of Alexander the Great.\n",
      "\n"
     ]
    }
   ],
   "source": [
    "await Chat(\"that sounds interesting, what are some of the topics I will learn about?\");\n"
   ]
  },
  {
   "cell_type": "code",
   "execution_count": 11,
   "metadata": {
    "dotnet_interactive": {
     "language": "csharp"
    },
    "polyglot_notebook": {
     "kernelName": "csharp"
    },
    "vscode": {
     "languageId": "polyglot-notebook"
    }
   },
   "outputs": [
    {
     "name": "stdout",
     "output_type": "stream",
     "text": [
      "\n",
      "User: Which topic from the ones you listed do you think most people find interesting?\n",
      "Assistant: I think many people find the Golden Age of Athens to be particularly fascinating. It was a time of great cultural and intellectual achievement, with the flourishing of philosophy, drama, art, and architecture.\n",
      "\n"
     ]
    }
   ],
   "source": [
    "await Chat(\"Which topic from the ones you listed do you think most people find interesting?\");\n"
   ]
  },
  {
   "cell_type": "code",
   "execution_count": 12,
   "metadata": {
    "dotnet_interactive": {
     "language": "csharp"
    },
    "polyglot_notebook": {
     "kernelName": "csharp"
    },
    "vscode": {
     "languageId": "polyglot-notebook"
    }
   },
   "outputs": [
    {
     "name": "stdout",
     "output_type": "stream",
     "text": [
      "\n",
      "User: could you list some more books I could read about the topic(s) you mentioned?\n",
      "Assistant: Certainly! Here are some more books you could consider:\n",
      "\n",
      "1. \"The Peloponnesian War\" by Donald Kagan - This book provides a detailed account of the conflict between Athens and Sparta, which marked the end of the Golden Age of Athens.\n",
      "2. \"The Birth of Classical Europe: A History from Troy to Augustine\" by Simon Price and Peter Thonemann - This book offers a broader perspective on the development of ancient Greek civilization and its impact on the wider Mediterranean world.\n",
      "3. \"The Histories\" by Herodotus - This ancient work is considered one of the earliest examples of historical writing and provides valuable insights into the Persian Wars and other events in ancient Greece.\n",
      "\n",
      "I hope you find these suggestions helpful!\n",
      "\n"
     ]
    }
   ],
   "source": [
    "await Chat(\"could you list some more books I could read about the topic(s) you mentioned?\");\n"
   ]
  },
  {
   "cell_type": "code",
   "execution_count": 13,
   "metadata": {
    "dotnet_interactive": {
     "language": "csharp"
    },
    "polyglot_notebook": {
     "kernelName": "csharp"
    },
    "vscode": {
     "languageId": "polyglot-notebook"
    }
   },
   "outputs": [
    {
     "name": "stdout",
     "output_type": "stream",
     "text": [
      "user: Hi, I'm looking for book suggestions\n",
      "assistant: Sure, what kind of books are you interested in? Fiction, non-fiction, mystery, romance, science fiction, fantasy, self-help, or something else?\n",
      "user: I would like a non-fiction book suggestion about Greece history. Please only list one book.\n",
      "assistant: I recommend \"The Greeks\" by H.D.F. Kitto. It provides a comprehensive overview of ancient Greek history, culture, and society.\n",
      "user: that sounds interesting, what are some of the topics I will learn about?\n",
      "assistant: You will learn about the rise of ancient Greek civilization, the development of Greek city-states, the Persian Wars, the Golden Age of Athens, Greek philosophy, art, and literature, as well as the conquests of Alexander the Great.\n",
      "user: Which topic from the ones you listed do you think most people find interesting?\n",
      "assistant: I think many people find the Golden Age of Athens to be particularly fascinating. It was a time of great cultural and intellectual achievement, with the flourishing of philosophy, drama, art, and architecture.\n",
      "user: could you list some more books I could read about the topic(s) you mentioned?\n",
      "assistant: Certainly! Here are some more books you could consider:\n",
      "\n",
      "1. \"The Peloponnesian War\" by Donald Kagan - This book provides a detailed account of the conflict between Athens and Sparta, which marked the end of the Golden Age of Athens.\n",
      "2. \"The Birth of Classical Europe: A History from Troy to Augustine\" by Simon Price and Peter Thonemann - This book offers a broader perspective on the development of ancient Greek civilization and its impact on the wider Mediterranean world.\n",
      "3. \"The Histories\" by Herodotus - This ancient work is considered one of the earliest examples of historical writing and provides valuable insights into the Persian Wars and other events in ancient Greece.\n",
      "\n",
      "I hope you find these suggestions helpful!\n"
     ]
    }
   ],
   "source": [
    "Console.WriteLine(string.Join(\"\\n\", history.Select(x => x.Role + \": \" + x.Content)));"
   ]
  },
  {
   "cell_type": "markdown",
   "metadata": {},
   "source": [
    "## 用迴圈方式執行"
   ]
  },
  {
   "cell_type": "code",
   "execution_count": 14,
   "metadata": {
    "dotnet_interactive": {
     "language": "csharp"
    },
    "polyglot_notebook": {
     "kernelName": "csharp"
    },
    "vscode": {
     "languageId": "polyglot-notebook"
    }
   },
   "outputs": [],
   "source": [
    "// Create a Semantic Kernel template for chat\n",
    "var chat = kernel.CreateFunctionFromPrompt(\n",
    "    @\"{{$history}}\n",
    "    User: {{$request}}\n",
    "    Assistant: \"\n",
    ");"
   ]
  },
  {
   "cell_type": "code",
   "execution_count": null,
   "metadata": {
    "dotnet_interactive": {
     "language": "csharp"
    },
    "polyglot_notebook": {
     "kernelName": "csharp"
    },
    "vscode": {
     "languageId": "polyglot-notebook"
    }
   },
   "outputs": [
    {
     "name": "stdout",
     "output_type": "stream",
     "text": [
      "User > \n",
      "可以推薦我東方武俠小說嗎?\n",
      "assistant > 當然可以！以下是一些推薦的東方武俠小說：\n",
      "\n",
      "1. 金庸的作品：《射雕英雄傳》、《神鵰俠侶》、《倚天屠龍記》等，金庸是中國最知名的武俠小說作家，他的作品融合了武俠、歷史與浪漫元素。\n",
      "\n",
      "2. 古龍的作品：《絕代雙雄》、《飛狐外傳》、《雙手亂舞》等，古龍的作品以輕快的筆觸和詼諧風趣的對白著稱，是許多讀者傾心的選擇。\n",
      "\n",
      "3. 梁羽生的作品：《白髮魔女傳》、《笑傲江湖》、《書劍恩仇錄》等，梁羽生的作品以情感豐富和劇情跌宕起伏而聞名。\n",
      "\n",
      "這些都是非常經典的東方武俠小說，你可以根據自己的喜好選擇閱讀。希望你會找到喜歡的作品！\n",
      "User > \n",
      "請給我白髮魔女傳\n",
      "assistant > 《白髮魔女傳》是一部由梁羽生所著的經典武俠小說，描寫了一段充滿愛恨情仇的故事。故事的主角是白髮魔女王語嫣和她的愛人「一劍」楊蓮亭，他們的愛情經歷了種種考驗。王語嫣因為服用了毒藥而變得神秘、冷酷和充滿魔性，但她的愛情卻依然動人。這部小說融合了武俠、愛情和江湖義氣等元素，深受讀者喜愛。希望你會喜歡這個故事！\n",
      "User > \n",
      "你不要亂講，王語嫣和楊蓮亭    一個是天龍八部  一個是笑傲江湖\n",
      "assistant > 抱歉，我的描述有些錯誤。《白髮魔女傳》是梁羽生的作品，它講述了白髮魔女王語嫣和她的愛人「風清扬」之間的故事。這個故事充滿了愛恨情仇和武林江湖的糾葛，情節跌宕起伏，絕對值得一讀。我混淆了角色名字，謹此致歉。希望您能夠喜歡這個故事！\n",
      "User > \n",
      "玉羅剎\n",
      "assistant > 《玉羅剎》是梁羽生所著的武俠小說，講述了一段充滿江湖風雲和感人愛情的故事。故事的主角是石中玉和藍秀儀，兩人情深意切，但卻被種種陰謀和宿命所纏繞。這部小說以其精彩的情節和鮮明的人物形象贏得了廣大讀者的喜愛。希望你會喜歡這個故事！\n",
      "User > \n",
      "藍秀儀是出自哪本小說?\n",
      "assistant > 抱歉，藍秀儀是出自古龍的作品《楚留香》系列中的角色，而非梁羽生的作品。謹此致歉。\n",
      "User > \n",
      "卓一航才根白髮魔女傳有關係\n",
      "assistant > 卓一航是《白髮魔女傳》中的另一個重要角色，他和王語嫣之間有一段復雜的情感糾葛，並深深地受到王語嫣的影響。這使得《白髮魔女傳》中的人物關係更為錯綜複雜，為故事的發展增添了許多劇情變化。希望你會喜歡這個充滿愛恨情仇的故事！\n",
      "User > \n",
      "王語嫣是金庸的天龍八部女主角之一\n",
      "assistant > 是的，王语嫣是金庸武侠小说《天龙八部》中的女主角之一，她是被毒害的白髮魔女，但是在金庸和梁羽生的作品中，角色的设定和故事情节有所不同。感谢您的纠正！\n",
      "User > \n",
      "練霓裳\n",
      "assistant > 《練霓裳》是梁羽生的一部作品，故事講述了主人公練霓裳在江湖中的成長和經歷。她聰明伶俐，擅長武藝，並在江湖中經歷了許多曲折和危險的情節。這個故事充滿了武俠的浪漫與刺激，以及主人公在江湖中的奇遇和成長。希望你會喜歡這個故事！\n",
      "User > \n",
      "練霓裳才是白髮魔女\n",
      "assistant > 不好意思，我的描述有误。梁羽生的《練霓裳》和《白髮魔女傳》是不同的作品。練霓裳才是白髮魔女。她的故事充滿了情感、劇情和武林江湖的精彩，是一個值得閱讀的武俠小說角色。希望你會喜歡這個故事！\n",
      "User > "
     ]
    }
   ],
   "source": [
    "using Microsoft.SemanticKernel;\n",
    "using Microsoft.SemanticKernel.ChatCompletion;\n",
    "using InteractiveKernel = Microsoft.DotNet.Interactive.Kernel;\n",
    "\n",
    "// Create chat history\n",
    "ChatHistory history = [];\n",
    "\n",
    "// Start the chat loop\n",
    "while (true)\n",
    "{\n",
    "    // Get user input\n",
    "    Console.Write(\"User > \");\n",
    "    var request = await InteractiveKernel.GetInputAsync(\"\");\n",
    "    Console.Write($\"\\n{request}\\n\");\n",
    "\n",
    "    if (request == \"break\")\n",
    "    {\n",
    "        \n",
    "\n",
    "        break;\n",
    "    }\n",
    "\n",
    "    // Get chat response\n",
    "    var chatResult = kernel.InvokeStreamingAsync<StreamingChatMessageContent>(\n",
    "        chat,\n",
    "        new() {\n",
    "            { \"request\", request },\n",
    "            { \"history\", string.Join(\"\\n\", history.Select(x => x.Role + \": \" + x.Content)) }\n",
    "        }\n",
    "    );\n",
    "\n",
    "    // Stream the response\n",
    "    string message = \"\";\n",
    "    await foreach (var chunk in chatResult)\n",
    "    {\n",
    "        if (chunk.Role.HasValue) Console.Write(chunk.Role + \" > \");\n",
    "        message += chunk;\n",
    "        Console.Write(chunk);\n",
    "    }\n",
    "    Console.WriteLine();\n",
    "\n",
    "    // Append to history\n",
    "    history.AddUserMessage(request!);\n",
    "    history.AddAssistantMessage(message);\n",
    "}"
   ]
  }
 ],
 "metadata": {
  "kernelspec": {
   "display_name": ".NET (C#)",
   "language": "C#",
   "name": ".net-csharp"
  },
  "language_info": {
   "name": "csharp"
  },
  "polyglot_notebook": {
   "kernelInfo": {
    "defaultKernelName": "csharp",
    "items": [
     {
      "aliases": [],
      "name": "csharp"
     }
    ]
   }
  }
 },
 "nbformat": 4,
 "nbformat_minor": 2
}
