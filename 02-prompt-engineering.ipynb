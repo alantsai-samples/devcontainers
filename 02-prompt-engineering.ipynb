{
 "cells": [
  {
   "cell_type": "code",
   "execution_count": 1,
   "metadata": {
    "dotnet_interactive": {
     "language": "csharp"
    },
    "polyglot_notebook": {
     "kernelName": "csharp"
    },
    "vscode": {
     "languageId": "polyglot-notebook"
    }
   },
   "outputs": [
    {
     "data": {
      "text/html": [
       "<div><div></div><div></div><div><strong>Installed Packages</strong><ul><li><span>Microsoft.SemanticKernel, 1.0.1</span></li></ul></div></div>"
      ]
     },
     "metadata": {},
     "output_type": "display_data"
    }
   ],
   "source": [
    "#r \"nuget: Microsoft.SemanticKernel, 1.0.1\"\n",
    "\n",
    "#!import config/Settings.cs\n",
    "\n",
    "using Microsoft.SemanticKernel;\n",
    "using Microsoft.SemanticKernel.Connectors.OpenAI;\n",
    "using Microsoft.SemanticKernel.TemplateEngine;\n",
    "using Kernel = Microsoft.SemanticKernel.Kernel;\n",
    "using InteractiveKernel = Microsoft.DotNet.Interactive.Kernel;\n",
    "\n",
    "var builder = Kernel.CreateBuilder();\n",
    "\n",
    "// Configure AI service credentials used by the kernel\n",
    "var (useAzureOpenAI, model, azureEndpoint, apiKey, orgId) = Settings.LoadFromFile();\n",
    "\n",
    "if (useAzureOpenAI)\n",
    "    builder.AddAzureOpenAIChatCompletion(model, azureEndpoint, apiKey);\n",
    "else\n",
    "    builder.AddOpenAIChatCompletion(model, apiKey, orgId);\n",
    "\n",
    "var kernel = builder.Build();"
   ]
  },
  {
   "cell_type": "markdown",
   "metadata": {},
   "source": [
    "## 找出意圖"
   ]
  },
  {
   "cell_type": "code",
   "execution_count": 2,
   "metadata": {
    "dotnet_interactive": {
     "language": "csharp"
    },
    "polyglot_notebook": {
     "kernelName": "csharp"
    },
    "vscode": {
     "languageId": "polyglot-notebook"
    }
   },
   "outputs": [
    {
     "name": "stdout",
     "output_type": "stream",
     "text": [
      "What is the intent of this request? I want to send an email to the marketing team celebrating their recent milestone.\n"
     ]
    }
   ],
   "source": [
    "string request = \"I want to send an email to the marketing team celebrating their recent milestone.\";\n",
    "\n",
    "string prompt = $\"What is the intent of this request? {request}\";\n",
    "\n",
    "Console.WriteLine(prompt);"
   ]
  },
  {
   "cell_type": "code",
   "execution_count": 3,
   "metadata": {
    "dotnet_interactive": {
     "language": "csharp"
    },
    "polyglot_notebook": {
     "kernelName": "csharp"
    },
    "vscode": {
     "languageId": "polyglot-notebook"
    }
   },
   "outputs": [
    {
     "name": "stdout",
     "output_type": "stream",
     "text": [
      "The intent of this request is to compose an email to congratulate and celebrate the marketing team for reaching a milestone.\n"
     ]
    }
   ],
   "source": [
    "Console.WriteLine(await kernel.InvokePromptAsync(prompt));"
   ]
  },
  {
   "cell_type": "markdown",
   "metadata": {},
   "source": [
    "## 更明確"
   ]
  },
  {
   "cell_type": "code",
   "execution_count": 4,
   "metadata": {
    "dotnet_interactive": {
     "language": "csharp"
    },
    "polyglot_notebook": {
     "kernelName": "csharp"
    },
    "vscode": {
     "languageId": "polyglot-notebook"
    }
   },
   "outputs": [],
   "source": [
    "prompt = @$\"What is the intent of this request? {request}\n",
    "You can choose between SendEmail, SendMessage, CompleteTask, CreateDocument.\";"
   ]
  },
  {
   "cell_type": "code",
   "execution_count": 5,
   "metadata": {
    "dotnet_interactive": {
     "language": "csharp"
    },
    "polyglot_notebook": {
     "kernelName": "csharp"
    },
    "vscode": {
     "languageId": "polyglot-notebook"
    }
   },
   "outputs": [
    {
     "name": "stdout",
     "output_type": "stream",
     "text": [
      "SendEmail\n"
     ]
    }
   ],
   "source": [
    "Console.WriteLine(await kernel.InvokePromptAsync(prompt));"
   ]
  },
  {
   "cell_type": "markdown",
   "metadata": {},
   "source": [
    "## 增加結構"
   ]
  },
  {
   "cell_type": "code",
   "execution_count": 6,
   "metadata": {
    "dotnet_interactive": {
     "language": "csharp"
    },
    "polyglot_notebook": {
     "kernelName": "csharp"
    },
    "vscode": {
     "languageId": "polyglot-notebook"
    }
   },
   "outputs": [],
   "source": [
    "prompt = @$\"Instructions: What is the intent of this request?\n",
    "Choices: SendEmail, SendMessage, CompleteTask, CreateDocument.\n",
    "User Input: {request}\n",
    "Intent: \";"
   ]
  },
  {
   "cell_type": "code",
   "execution_count": 7,
   "metadata": {
    "dotnet_interactive": {
     "language": "csharp"
    },
    "polyglot_notebook": {
     "kernelName": "csharp"
    },
    "vscode": {
     "languageId": "polyglot-notebook"
    }
   },
   "outputs": [
    {
     "name": "stdout",
     "output_type": "stream",
     "text": [
      "SendEmail\n"
     ]
    }
   ],
   "source": [
    "Console.WriteLine(await kernel.InvokePromptAsync(prompt));"
   ]
  },
  {
   "cell_type": "code",
   "execution_count": 10,
   "metadata": {
    "dotnet_interactive": {
     "language": "csharp"
    },
    "polyglot_notebook": {
     "kernelName": "csharp"
    },
    "vscode": {
     "languageId": "polyglot-notebook"
    }
   },
   "outputs": [],
   "source": [
    "prompt = @$\"## Instructions\n",
    "Provide the intent of the request using the following format:\n",
    "\n",
    "```json\n",
    "{{\n",
    "    \"\"intent\"\": {{intent}}\n",
    "}}\n",
    "```\n",
    "\n",
    "## Choices\n",
    "You can choose between the following intents:\n",
    "\n",
    "```json\n",
    "[\"\"SendEmail\"\", \"\"SendMessage\"\", \"\"CompleteTask\"\", \"\"CreateDocument\"\"]\n",
    "```\n",
    "\n",
    "## User Input\n",
    "The user input is:\n",
    "\n",
    "```json\n",
    "{{\n",
    "    \"\"request\"\": \"\"{request}\"\"\n",
    "}}\n",
    "```\n",
    "\n",
    "## Intent\";"
   ]
  },
  {
   "cell_type": "code",
   "execution_count": 11,
   "metadata": {
    "dotnet_interactive": {
     "language": "csharp"
    },
    "polyglot_notebook": {
     "kernelName": "csharp"
    },
    "vscode": {
     "languageId": "polyglot-notebook"
    }
   },
   "outputs": [
    {
     "name": "stdout",
     "output_type": "stream",
     "text": [
      "{\n",
      "    \"intent\": \"SendEmail\"\n",
      "}\n"
     ]
    }
   ],
   "source": [
    "Console.WriteLine(await kernel.InvokePromptAsync(prompt));"
   ]
  },
  {
   "cell_type": "markdown",
   "metadata": {},
   "source": [
    "## 提供情境"
   ]
  },
  {
   "cell_type": "markdown",
   "metadata": {},
   "source": [
    "以下面的對話為例：\n",
    "\n",
    "\n",
    "> User: I hate sending emails, no one ever reads them.\n",
    ">\n",
    "> AI: I'm sorry to hear that. Messages may be a better way to communicate.\n",
    ">\n",
    "> User: I agree, can you send the full status update to the marketing team that way?\n",
    "\n",
    "\n",
    "如果沒有前後文，那麼會識別為 SendEmail 而不是 SendMessage\n",
    "因此前後文很重要"
   ]
  },
  {
   "cell_type": "code",
   "execution_count": 12,
   "metadata": {
    "dotnet_interactive": {
     "language": "csharp"
    },
    "polyglot_notebook": {
     "kernelName": "csharp"
    },
    "vscode": {
     "languageId": "polyglot-notebook"
    }
   },
   "outputs": [],
   "source": [
    "string request2 = \"can you send the full status update to the marketing team that way?\";\n",
    "string history = @\"User input: I hate sending emails, no one ever reads them.\n",
    "AI response: I'm sorry to hear that. Messages may be a better way to communicate.\";\n",
    "\n",
    "prompt = @$\"Instructions: What is the intent of this request?\n",
    "If you don't know the intent, don't guess; instead respond with \"\"Unknown\"\".\n",
    "Choices: SendEmail, SendMessage, CompleteTask, CreateDocument, Unknown.\n",
    "\n",
    "User Input: Can you send a very quick approval to the marketing team?\n",
    "Intent: SendMessage\n",
    "\n",
    "User Input: Can you send the full update to the marketing team?\n",
    "Intent: SendEmail\n",
    "\n",
    "{history}\n",
    "User Input: {request2}\n",
    "Intent: \";"
   ]
  },
  {
   "cell_type": "code",
   "execution_count": 13,
   "metadata": {
    "dotnet_interactive": {
     "language": "csharp"
    },
    "polyglot_notebook": {
     "kernelName": "csharp"
    },
    "vscode": {
     "languageId": "polyglot-notebook"
    }
   },
   "outputs": [
    {
     "name": "stdout",
     "output_type": "stream",
     "text": [
      "SendEmail\n"
     ]
    }
   ],
   "source": [
    "Console.WriteLine(await kernel.InvokePromptAsync(prompt));"
   ]
  },
  {
   "cell_type": "code",
   "execution_count": 15,
   "metadata": {
    "dotnet_interactive": {
     "language": "csharp"
    },
    "polyglot_notebook": {
     "kernelName": "csharp"
    },
    "vscode": {
     "languageId": "polyglot-notebook"
    }
   },
   "outputs": [],
   "source": [
    "history = @\"<message role=\"\"user\"\">I hate sending emails, no one ever reads them.</message>\n",
    "<message role=\"\"assistant\"\">I'm sorry to hear that. Messages may be a better way to communicate.</message>\";\n",
    "\n",
    "prompt = @$\"<message role=\"\"system\"\">Instructions: What is the intent of this request?\n",
    "If you don't know the intent, don't guess; instead respond with \"\"Unknown\"\".\n",
    "Choices: SendEmail, SendMessage, CompleteTask, CreateDocument, Unknown.</message>\n",
    "\n",
    "<message role=\"\"user\"\">Can you send a very quick approval to the marketing team?</message>\n",
    "<message role=\"\"system\"\">Intent:</message>\n",
    "<message role=\"\"assistant\"\">SendMessage</message>\n",
    "\n",
    "<message role=\"\"user\"\">Can you send the full update to the marketing team?</message>\n",
    "<message role=\"\"system\"\">Intent:</message>\n",
    "<message role=\"\"assistant\"\">SendEmail</message>\n",
    "\n",
    "{history}\n",
    "<message role=\"\"user\"\">{request2}</message>\n",
    "<message role=\"\"system\"\">Intent:</message>\";"
   ]
  },
  {
   "cell_type": "code",
   "execution_count": 16,
   "metadata": {
    "dotnet_interactive": {
     "language": "csharp"
    },
    "polyglot_notebook": {
     "kernelName": "csharp"
    },
    "vscode": {
     "languageId": "polyglot-notebook"
    }
   },
   "outputs": [
    {
     "name": "stdout",
     "output_type": "stream",
     "text": [
      "SendEmail\n"
     ]
    }
   ],
   "source": [
    "Console.WriteLine(await kernel.InvokePromptAsync(prompt));"
   ]
  }
 ],
 "metadata": {
  "kernelspec": {
   "display_name": ".NET (C#)",
   "language": "C#",
   "name": ".net-csharp"
  },
  "language_info": {
   "name": "csharp"
  },
  "polyglot_notebook": {
   "kernelInfo": {
    "defaultKernelName": "csharp",
    "items": [
     {
      "aliases": [],
      "name": "csharp"
     }
    ]
   }
  }
 },
 "nbformat": 4,
 "nbformat_minor": 2
}
